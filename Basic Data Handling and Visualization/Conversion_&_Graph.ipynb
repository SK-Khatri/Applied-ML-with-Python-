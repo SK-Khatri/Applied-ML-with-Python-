{
 "cells": [
  {
   "cell_type": "code",
   "execution_count": 141,
   "id": "4606294b-4817-4f41-8918-5be1fb5fb1ec",
   "metadata": {},
   "outputs": [
    {
     "data": {
      "text/html": [
       "<div>\n",
       "<style scoped>\n",
       "    .dataframe tbody tr th:only-of-type {\n",
       "        vertical-align: middle;\n",
       "    }\n",
       "\n",
       "    .dataframe tbody tr th {\n",
       "        vertical-align: top;\n",
       "    }\n",
       "\n",
       "    .dataframe thead th {\n",
       "        text-align: right;\n",
       "    }\n",
       "</style>\n",
       "<table border=\"1\" class=\"dataframe\">\n",
       "  <thead>\n",
       "    <tr style=\"text-align: right;\">\n",
       "      <th></th>\n",
       "      <th>Area (cm sq)</th>\n",
       "      <th>Price (in dollars)</th>\n",
       "    </tr>\n",
       "  </thead>\n",
       "  <tbody>\n",
       "    <tr>\n",
       "      <th>0</th>\n",
       "      <td>5000000</td>\n",
       "      <td>100</td>\n",
       "    </tr>\n",
       "    <tr>\n",
       "      <th>1</th>\n",
       "      <td>5500000</td>\n",
       "      <td>110</td>\n",
       "    </tr>\n",
       "    <tr>\n",
       "      <th>2</th>\n",
       "      <td>6000000</td>\n",
       "      <td>120</td>\n",
       "    </tr>\n",
       "    <tr>\n",
       "      <th>3</th>\n",
       "      <td>6500000</td>\n",
       "      <td>130</td>\n",
       "    </tr>\n",
       "    <tr>\n",
       "      <th>4</th>\n",
       "      <td>7000000</td>\n",
       "      <td>140</td>\n",
       "    </tr>\n",
       "    <tr>\n",
       "      <th>5</th>\n",
       "      <td>7500000</td>\n",
       "      <td>150</td>\n",
       "    </tr>\n",
       "    <tr>\n",
       "      <th>6</th>\n",
       "      <td>8000000</td>\n",
       "      <td>160</td>\n",
       "    </tr>\n",
       "    <tr>\n",
       "      <th>7</th>\n",
       "      <td>8500000</td>\n",
       "      <td>170</td>\n",
       "    </tr>\n",
       "    <tr>\n",
       "      <th>8</th>\n",
       "      <td>9000000</td>\n",
       "      <td>180</td>\n",
       "    </tr>\n",
       "    <tr>\n",
       "      <th>9</th>\n",
       "      <td>9500000</td>\n",
       "      <td>190</td>\n",
       "    </tr>\n",
       "  </tbody>\n",
       "</table>\n",
       "</div>"
      ],
      "text/plain": [
       "   Area (cm sq)  Price (in dollars)\n",
       "0       5000000                 100\n",
       "1       5500000                 110\n",
       "2       6000000                 120\n",
       "3       6500000                 130\n",
       "4       7000000                 140\n",
       "5       7500000                 150\n",
       "6       8000000                 160\n",
       "7       8500000                 170\n",
       "8       9000000                 180\n",
       "9       9500000                 190"
      ]
     },
     "execution_count": 141,
     "metadata": {},
     "output_type": "execute_result"
    }
   ],
   "source": [
    "import pandas as pd\n",
    "HousePrice = pd.read_csv('House Price.csv')\n",
    "HousePrice"
   ]
  },
  {
   "cell_type": "code",
   "execution_count": 143,
   "id": "7e470466-ddbc-42cd-b11f-8517791d002b",
   "metadata": {},
   "outputs": [
    {
     "data": {
      "text/plain": [
       "0    5000000\n",
       "1    5500000\n",
       "2    6000000\n",
       "3    6500000\n",
       "4    7000000\n",
       "5    7500000\n",
       "6    8000000\n",
       "7    8500000\n",
       "8    9000000\n",
       "9    9500000\n",
       "Name: Area (cm sq), dtype: int64"
      ]
     },
     "execution_count": 143,
     "metadata": {},
     "output_type": "execute_result"
    }
   ],
   "source": [
    "HousePrice.iloc[:,0]"
   ]
  },
  {
   "cell_type": "code",
   "execution_count": 145,
   "id": "18dc6ea5-780f-49ae-aab8-5961a073adf6",
   "metadata": {},
   "outputs": [
    {
     "data": {
      "text/plain": [
       "0    500.0\n",
       "1    550.0\n",
       "2    600.0\n",
       "3    650.0\n",
       "4    700.0\n",
       "5    750.0\n",
       "6    800.0\n",
       "7    850.0\n",
       "8    900.0\n",
       "9    950.0\n",
       "Name: Area (cm sq), dtype: float64"
      ]
     },
     "execution_count": 145,
     "metadata": {},
     "output_type": "execute_result"
    }
   ],
   "source": [
    "area = HousePrice.iloc[:,0]\n",
    "area = area / 10000\n",
    "area"
   ]
  },
  {
   "cell_type": "code",
   "execution_count": 147,
   "id": "921ec4ed-626a-4dd6-a428-9fb1b96f1fff",
   "metadata": {},
   "outputs": [
    {
     "data": {
      "text/plain": [
       "0    100\n",
       "1    110\n",
       "2    120\n",
       "3    130\n",
       "4    140\n",
       "5    150\n",
       "6    160\n",
       "7    170\n",
       "8    180\n",
       "9    190\n",
       "Name: Price (in dollars), dtype: int64"
      ]
     },
     "execution_count": 147,
     "metadata": {},
     "output_type": "execute_result"
    }
   ],
   "source": [
    "HousePrice.iloc[:,1]"
   ]
  },
  {
   "cell_type": "code",
   "execution_count": 149,
   "id": "4de62f7b-2610-44a2-8f53-ea49a391ba6d",
   "metadata": {},
   "outputs": [
    {
     "data": {
      "text/plain": [
       "0    28000\n",
       "1    30800\n",
       "2    33600\n",
       "3    36400\n",
       "4    39200\n",
       "5    42000\n",
       "6    44800\n",
       "7    47600\n",
       "8    50400\n",
       "9    53200\n",
       "Name: Price (in dollars), dtype: int64"
      ]
     },
     "execution_count": 149,
     "metadata": {},
     "output_type": "execute_result"
    }
   ],
   "source": [
    "price = HousePrice.iloc[:,1]\n",
    "price = price * 280\n",
    "price"
   ]
  },
  {
   "cell_type": "code",
   "execution_count": 151,
   "id": "1097de33-0af6-4386-bb4b-ab84d222c770",
   "metadata": {},
   "outputs": [
    {
     "data": {
      "text/html": [
       "<div>\n",
       "<style scoped>\n",
       "    .dataframe tbody tr th:only-of-type {\n",
       "        vertical-align: middle;\n",
       "    }\n",
       "\n",
       "    .dataframe tbody tr th {\n",
       "        vertical-align: top;\n",
       "    }\n",
       "\n",
       "    .dataframe thead th {\n",
       "        text-align: right;\n",
       "    }\n",
       "</style>\n",
       "<table border=\"1\" class=\"dataframe\">\n",
       "  <thead>\n",
       "    <tr style=\"text-align: right;\">\n",
       "      <th></th>\n",
       "      <th>Area (m sq)</th>\n",
       "      <th>Price (in PKR)</th>\n",
       "    </tr>\n",
       "  </thead>\n",
       "  <tbody>\n",
       "    <tr>\n",
       "      <th>0</th>\n",
       "      <td>5000000</td>\n",
       "      <td>100</td>\n",
       "    </tr>\n",
       "    <tr>\n",
       "      <th>1</th>\n",
       "      <td>5500000</td>\n",
       "      <td>110</td>\n",
       "    </tr>\n",
       "    <tr>\n",
       "      <th>2</th>\n",
       "      <td>6000000</td>\n",
       "      <td>120</td>\n",
       "    </tr>\n",
       "    <tr>\n",
       "      <th>3</th>\n",
       "      <td>6500000</td>\n",
       "      <td>130</td>\n",
       "    </tr>\n",
       "    <tr>\n",
       "      <th>4</th>\n",
       "      <td>7000000</td>\n",
       "      <td>140</td>\n",
       "    </tr>\n",
       "    <tr>\n",
       "      <th>5</th>\n",
       "      <td>7500000</td>\n",
       "      <td>150</td>\n",
       "    </tr>\n",
       "    <tr>\n",
       "      <th>6</th>\n",
       "      <td>8000000</td>\n",
       "      <td>160</td>\n",
       "    </tr>\n",
       "    <tr>\n",
       "      <th>7</th>\n",
       "      <td>8500000</td>\n",
       "      <td>170</td>\n",
       "    </tr>\n",
       "    <tr>\n",
       "      <th>8</th>\n",
       "      <td>9000000</td>\n",
       "      <td>180</td>\n",
       "    </tr>\n",
       "    <tr>\n",
       "      <th>9</th>\n",
       "      <td>9500000</td>\n",
       "      <td>190</td>\n",
       "    </tr>\n",
       "  </tbody>\n",
       "</table>\n",
       "</div>"
      ],
      "text/plain": [
       "   Area (m sq)  Price (in PKR)\n",
       "0      5000000             100\n",
       "1      5500000             110\n",
       "2      6000000             120\n",
       "3      6500000             130\n",
       "4      7000000             140\n",
       "5      7500000             150\n",
       "6      8000000             160\n",
       "7      8500000             170\n",
       "8      9000000             180\n",
       "9      9500000             190"
      ]
     },
     "execution_count": 151,
     "metadata": {},
     "output_type": "execute_result"
    }
   ],
   "source": [
    "NewColNames = { \"Area (cm sq)\": \"Area (m sq)\", \"Price (in dollars)\": \"Price (in PKR)\"}\n",
    "HousePrice.rename(columns=NewColNames, inplace=True)\n",
    "HousePrice"
   ]
  },
  {
   "cell_type": "code",
   "execution_count": 153,
   "id": "5fb0d4eb-9eb2-4384-8382-d7ebd8a31da7",
   "metadata": {},
   "outputs": [
    {
     "data": {
      "text/html": [
       "<div>\n",
       "<style scoped>\n",
       "    .dataframe tbody tr th:only-of-type {\n",
       "        vertical-align: middle;\n",
       "    }\n",
       "\n",
       "    .dataframe tbody tr th {\n",
       "        vertical-align: top;\n",
       "    }\n",
       "\n",
       "    .dataframe thead th {\n",
       "        text-align: right;\n",
       "    }\n",
       "</style>\n",
       "<table border=\"1\" class=\"dataframe\">\n",
       "  <thead>\n",
       "    <tr style=\"text-align: right;\">\n",
       "      <th></th>\n",
       "      <th>Area (m sq)</th>\n",
       "      <th>Price (in PKR)</th>\n",
       "    </tr>\n",
       "  </thead>\n",
       "  <tbody>\n",
       "    <tr>\n",
       "      <th>0</th>\n",
       "      <td>500</td>\n",
       "      <td>28000</td>\n",
       "    </tr>\n",
       "    <tr>\n",
       "      <th>1</th>\n",
       "      <td>550</td>\n",
       "      <td>30800</td>\n",
       "    </tr>\n",
       "    <tr>\n",
       "      <th>2</th>\n",
       "      <td>600</td>\n",
       "      <td>33600</td>\n",
       "    </tr>\n",
       "    <tr>\n",
       "      <th>3</th>\n",
       "      <td>650</td>\n",
       "      <td>36400</td>\n",
       "    </tr>\n",
       "    <tr>\n",
       "      <th>4</th>\n",
       "      <td>700</td>\n",
       "      <td>39200</td>\n",
       "    </tr>\n",
       "    <tr>\n",
       "      <th>5</th>\n",
       "      <td>750</td>\n",
       "      <td>42000</td>\n",
       "    </tr>\n",
       "    <tr>\n",
       "      <th>6</th>\n",
       "      <td>800</td>\n",
       "      <td>44800</td>\n",
       "    </tr>\n",
       "    <tr>\n",
       "      <th>7</th>\n",
       "      <td>850</td>\n",
       "      <td>47600</td>\n",
       "    </tr>\n",
       "    <tr>\n",
       "      <th>8</th>\n",
       "      <td>900</td>\n",
       "      <td>50400</td>\n",
       "    </tr>\n",
       "    <tr>\n",
       "      <th>9</th>\n",
       "      <td>950</td>\n",
       "      <td>53200</td>\n",
       "    </tr>\n",
       "  </tbody>\n",
       "</table>\n",
       "</div>"
      ],
      "text/plain": [
       "   Area (m sq)  Price (in PKR)\n",
       "0          500           28000\n",
       "1          550           30800\n",
       "2          600           33600\n",
       "3          650           36400\n",
       "4          700           39200\n",
       "5          750           42000\n",
       "6          800           44800\n",
       "7          850           47600\n",
       "8          900           50400\n",
       "9          950           53200"
      ]
     },
     "execution_count": 153,
     "metadata": {},
     "output_type": "execute_result"
    }
   ],
   "source": [
    "HousePrice.loc[:,\"Area (m sq)\"] = area\n",
    "HousePrice.loc[:,\"Price (in PKR)\"] = price\n",
    "HousePrice"
   ]
  },
  {
   "cell_type": "code",
   "execution_count": 155,
   "id": "9ee53875-c97b-469f-a9d9-4c3d5ea61714",
   "metadata": {},
   "outputs": [],
   "source": [
    "HousePrice.to_csv('House Price.csv', index=False)"
   ]
  },
  {
   "cell_type": "code",
   "execution_count": 161,
   "id": "4aa3b8e3-201c-49a4-8358-c98a314b05a2",
   "metadata": {},
   "outputs": [
    {
     "data": {
      "image/png": "[encoded data removed]",
      "text/plain": [
       "<Figure size 640x480 with 1 Axes>"
      ]
     },
     "metadata": {},
     "output_type": "display_data"
    }
   ],
   "source": [
    "from matplotlib import pyplot as plt\n",
    "x = HousePrice.iloc[:,0]\n",
    "y = HousePrice.iloc[:,1]\n",
    "plt.title(\"Relation b/w House Area and Price\")\n",
    "plt.xlabel(HousePrice.columns[0])\n",
    "plt.ylabel(HousePrice.columns[1])\n",
    "plt.plot(x,y)\n",
    "plt.show()"
   ]
  },
  {
   "cell_type": "code",
   "execution_count": null,
   "id": "9ffdbef4-4965-4ae4-bc6f-97ae197b379f",
   "metadata": {},
   "outputs": [],
   "source": []
  }
 ],
 "metadata": {
  "kernelspec": {
   "display_name": "Python 3 (ipykernel)",
   "language": "python",
   "name": "python3"
  },
  "language_info": {
   "codemirror_mode": {
    "name": "ipython",
    "version": 3
   },
   "file_extension": ".py",
   "mimetype": "text/x-python",
   "name": "python",
   "nbconvert_exporter": "python",
   "pygments_lexer": "ipython3",
   "version": "3.12.4"
  }
 },
 "nbformat": 4,
 "nbformat_minor": 5
}
